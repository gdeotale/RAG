{
  "cells": [
    {
      "cell_type": "code",
      "execution_count": null,
      "id": "5a333b88-6d80-426e-a742-97d494e3e5d1",
      "metadata": {
        "id": "5a333b88-6d80-426e-a742-97d494e3e5d1"
      },
      "outputs": [],
      "source": [
        "import os\n",
        "os.environ[\"OPENAI_API_KEY\"] = \"sk....\""
      ]
    },
    {
      "cell_type": "code",
      "execution_count": null,
      "id": "a19bc100-b22c-4819-aad8-93369184b575",
      "metadata": {
        "id": "a19bc100-b22c-4819-aad8-93369184b575",
        "outputId": "d20dfd7c-d2dd-46a7-ced1-51cfc87e0861"
      },
      "outputs": [
        {
          "name": "stdout",
          "output_type": "stream",
          "text": [
            "\u001b[33mWARNING: Running pip as the 'root' user can result in broken permissions and conflicting behaviour with the system package manager, possibly rendering your system unusable. It is recommended to use a virtual environment instead: https://pip.pypa.io/warnings/venv. Use the --root-user-action option if you know what you are doing and want to suppress this warning.\u001b[0m\u001b[33m\n",
            "\u001b[0m\n",
            "\u001b[1m[\u001b[0m\u001b[34;49mnotice\u001b[0m\u001b[1;39;49m]\u001b[0m\u001b[39;49m A new release of pip is available: \u001b[0m\u001b[31;49m25.0.1\u001b[0m\u001b[39;49m -> \u001b[0m\u001b[32;49m25.1.1\u001b[0m\n",
            "\u001b[1m[\u001b[0m\u001b[34;49mnotice\u001b[0m\u001b[1;39;49m]\u001b[0m\u001b[39;49m To update, run: \u001b[0m\u001b[32;49mpip install --upgrade pip\u001b[0m\n"
          ]
        }
      ],
      "source": [
        "!pip install -q youtube-transcript-api"
      ]
    },
    {
      "cell_type": "code",
      "execution_count": null,
      "id": "4dddf574-83e2-41d9-ab15-2d0a93ec2056",
      "metadata": {
        "id": "4dddf574-83e2-41d9-ab15-2d0a93ec2056",
        "outputId": "be55a54e-8293-472e-c05f-4e1e85243375"
      },
      "outputs": [
        {
          "name": "stdout",
          "output_type": "stream",
          "text": [
            "Collecting faiss-cpu\n",
            "  Downloading faiss_cpu-1.11.0.post1-cp310-cp310-manylinux_2_27_x86_64.manylinux_2_28_x86_64.whl.metadata (5.0 kB)\n",
            "Requirement already satisfied: numpy<3.0,>=1.25.0 in /opt/conda/lib/python3.10/site-packages (from faiss-cpu) (1.26.3)\n",
            "Requirement already satisfied: packaging in /opt/conda/lib/python3.10/site-packages (from faiss-cpu) (24.2)\n",
            "Downloading faiss_cpu-1.11.0.post1-cp310-cp310-manylinux_2_27_x86_64.manylinux_2_28_x86_64.whl (31.3 MB)\n",
            "\u001b[2K   \u001b[90m━━━━━━━━━━━━━━━━━━━━━━━━━━━━━━━━━━━━━━━━\u001b[0m \u001b[32m31.3/31.3 MB\u001b[0m \u001b[31m10.8 MB/s\u001b[0m eta \u001b[36m0:00:00\u001b[0m00:01\u001b[0m00:01\u001b[0m\n",
            "\u001b[?25hInstalling collected packages: faiss-cpu\n",
            "Successfully installed faiss-cpu-1.11.0.post1\n",
            "\u001b[33mWARNING: Running pip as the 'root' user can result in broken permissions and conflicting behaviour with the system package manager, possibly rendering your system unusable. It is recommended to use a virtual environment instead: https://pip.pypa.io/warnings/venv. Use the --root-user-action option if you know what you are doing and want to suppress this warning.\u001b[0m\u001b[33m\n",
            "\u001b[0m\n",
            "\u001b[1m[\u001b[0m\u001b[34;49mnotice\u001b[0m\u001b[1;39;49m]\u001b[0m\u001b[39;49m A new release of pip is available: \u001b[0m\u001b[31;49m25.0.1\u001b[0m\u001b[39;49m -> \u001b[0m\u001b[32;49m25.1.1\u001b[0m\n",
            "\u001b[1m[\u001b[0m\u001b[34;49mnotice\u001b[0m\u001b[1;39;49m]\u001b[0m\u001b[39;49m To update, run: \u001b[0m\u001b[32;49mpip install --upgrade pip\u001b[0m\n"
          ]
        }
      ],
      "source": [
        "!pip install faiss-cpu"
      ]
    },
    {
      "cell_type": "code",
      "execution_count": null,
      "id": "db11f2b0-966b-496a-8e56-50e4a590fa55",
      "metadata": {
        "id": "db11f2b0-966b-496a-8e56-50e4a590fa55",
        "outputId": "5ed854ce-e913-4857-a4eb-d9c2c658b1f1"
      },
      "outputs": [
        {
          "name": "stdout",
          "output_type": "stream",
          "text": [
            "Collecting scikit-learn\n",
            "  Downloading scikit_learn-1.7.1-cp310-cp310-manylinux2014_x86_64.manylinux_2_17_x86_64.whl.metadata (11 kB)\n",
            "Requirement already satisfied: numpy>=1.22.0 in /opt/conda/lib/python3.10/site-packages (from scikit-learn) (1.26.3)\n",
            "Collecting scipy>=1.8.0 (from scikit-learn)\n",
            "  Downloading scipy-1.15.3-cp310-cp310-manylinux_2_17_x86_64.manylinux2014_x86_64.whl.metadata (61 kB)\n",
            "Requirement already satisfied: joblib>=1.2.0 in /opt/conda/lib/python3.10/site-packages (from scikit-learn) (1.4.2)\n",
            "Collecting threadpoolctl>=3.1.0 (from scikit-learn)\n",
            "  Downloading threadpoolctl-3.6.0-py3-none-any.whl.metadata (13 kB)\n",
            "Downloading scikit_learn-1.7.1-cp310-cp310-manylinux2014_x86_64.manylinux_2_17_x86_64.whl (9.7 MB)\n",
            "\u001b[2K   \u001b[90m━━━━━━━━━━━━━━━━━━━━━━━━━━━━━━━━━━━━━━━━\u001b[0m \u001b[32m9.7/9.7 MB\u001b[0m \u001b[31m9.4 MB/s\u001b[0m eta \u001b[36m0:00:00\u001b[0m00:01\u001b[0m:00:01\u001b[0m\n",
            "\u001b[?25hDownloading scipy-1.15.3-cp310-cp310-manylinux_2_17_x86_64.manylinux2014_x86_64.whl (37.7 MB)\n",
            "\u001b[2K   \u001b[90m━━━━━━━━━━━━━━━━━━━━━━━━━━━━━━━━━━━━━━━━\u001b[0m \u001b[32m37.7/37.7 MB\u001b[0m \u001b[31m7.8 MB/s\u001b[0m eta \u001b[36m0:00:00\u001b[0m00:01\u001b[0m00:01\u001b[0mm\n",
            "\u001b[?25hDownloading threadpoolctl-3.6.0-py3-none-any.whl (18 kB)\n",
            "Installing collected packages: threadpoolctl, scipy, scikit-learn\n",
            "Successfully installed scikit-learn-1.7.1 scipy-1.15.3 threadpoolctl-3.6.0\n",
            "\u001b[33mWARNING: Running pip as the 'root' user can result in broken permissions and conflicting behaviour with the system package manager, possibly rendering your system unusable. It is recommended to use a virtual environment instead: https://pip.pypa.io/warnings/venv. Use the --root-user-action option if you know what you are doing and want to suppress this warning.\u001b[0m\u001b[33m\n",
            "\u001b[0m\n",
            "\u001b[1m[\u001b[0m\u001b[34;49mnotice\u001b[0m\u001b[1;39;49m]\u001b[0m\u001b[39;49m A new release of pip is available: \u001b[0m\u001b[31;49m25.0.1\u001b[0m\u001b[39;49m -> \u001b[0m\u001b[32;49m25.1.1\u001b[0m\n",
            "\u001b[1m[\u001b[0m\u001b[34;49mnotice\u001b[0m\u001b[1;39;49m]\u001b[0m\u001b[39;49m To update, run: \u001b[0m\u001b[32;49mpip install --upgrade pip\u001b[0m\n",
            "Note: you may need to restart the kernel to use updated packages.\n"
          ]
        }
      ],
      "source": [
        "pip install scikit-learn"
      ]
    },
    {
      "cell_type": "markdown",
      "id": "68120813-e10d-426e-bd97-6aa7087291f6",
      "metadata": {
        "id": "68120813-e10d-426e-bd97-6aa7087291f6"
      },
      "source": [
        "#Imports"
      ]
    },
    {
      "cell_type": "code",
      "execution_count": null,
      "id": "c3436e78-ed6d-4a25-8334-84b21e04c8e8",
      "metadata": {
        "id": "c3436e78-ed6d-4a25-8334-84b21e04c8e8"
      },
      "outputs": [],
      "source": [
        "from youtube_transcript_api import YouTubeTranscriptApi, TranscriptsDisabled\n",
        "from langchain.text_splitter import RecursiveCharacterTextSplitter\n",
        "from langchain_openai import OpenAIEmbeddings, ChatOpenAI\n",
        "from langchain_community.vectorstores import FAISS\n",
        "from langchain_core.prompts import PromptTemplate"
      ]
    },
    {
      "cell_type": "markdown",
      "id": "b2c2cfdb-3d19-4a69-8a4b-3735f13fc672",
      "metadata": {
        "id": "b2c2cfdb-3d19-4a69-8a4b-3735f13fc672"
      },
      "source": [
        "# loading data(collect all the books shelves)"
      ]
    },
    {
      "cell_type": "code",
      "execution_count": null,
      "id": "c860435a-355e-44d9-8526-ad16d2dc2106",
      "metadata": {
        "id": "c860435a-355e-44d9-8526-ad16d2dc2106",
        "outputId": "c4360f2a-2b9e-4d50-9f72-7b8d1e9a4edf"
      },
      "outputs": [
        {
          "name": "stdout",
          "output_type": "stream",
          "text": [
            "In India's digital capital, UPI was once king. But now, Bangalore vendors are tearing down QR codes and saying cash only. Why are the same street sellers who embrace digital now running from it? Because behind every beep of a UPI payment, there could be a tax notice. Hi, this is Katija and you're watching the free press journal. Today we are decoding a crisis that's turning India's digital dream upside down. Why are Bangaluru's food stalls, corner shops and small vendors refusing UPI payments? Why are posters saying no UPI only cash spreading in the city that once led India's fine tech revolution? In this video, we'll explain how GST enforcement triggered panic, what UPI has to do with tax notices, how the Karnataka government is trying to calm things down, and why traders are now planning a strike. Let's get into the full story. Imagine you are at a tea stall in Kora Mangala. You take out your phone to pay via UPI and the seller says cash only. You look around and you see the same thing everywhere. QR codes missing, vendors refusing online payment. Why? Because it all started earlier this month when Karnataka's commercial tax department decided to use UPI transaction data to identify unregistered businesses. They flagged around 14,000 traders who had received digital payments that according to them cross the GST registration limit. These vendors were sent notices some demanding taxes going back to 2021 to 22 with dues ranging from thousands to even rupees 40 40 lakh. Just like that, what was once a simple digital payment became a potential tax liability? Now, very importantly, why is this happening now? Now, here's the question everyone's asking. Why now? Why are small traders being scrutinized this way? The answer lies in Karnataka's ambitious revenue target. The state wants to collect rupees 1.2 lakh cr by 2025 to 26. At the same time, rupees 52,000 cr has already been committed to welfare schemes and Congress MLAs are demanding more funds for roads, hospitals, housing and urban projects. To fill the gap, the tax department has been told to widen the tax base. That means bringing in more unregistered businesses, even if they are tiny food stalls or roadside vendors. And the easiest way to find them, UPI data, clean, traceable, and digital. But here's where the real trouble begins. Now let's understand the tax trap. Under GST law, if a trader's annual turnover crosses rupees 4040 lakh for goods or 20 lakh for services, they must register and pay tax. But how do you calculate turnover? Well, the department used UPI transaction history alone. So if someone received rupees 3 to four lakh via UPI over a few months, the system scaled it to assume they crossed rupees 20 to 40 lakh annually and send them a notice. But expert says that's a flawed method. Why? Because many vendors use one account for everything like business, personal and even family transfer. For example, a friend returning borrowed cash. All of it shows up in UPI. Can that really be considered as income? Well, under the GST law, the burden of proof lies with the department, not the trader. They must prove it's business income, not just assume. So now traders are asking why are we being penalized just for going digital? Now talking about the panic that's getting viral. This panic didn't stay local on social media. Photos of stalls with signs like no UPI only cash went viral. On X, Instagram and WhatsApp, people shared stories of vendors being harassed, receiving notices or removing QR codes. The same Bangalore that once symbolized India's fine tech boom was now seen rejecting it. The public was shocked. Is this how we reward small vendors for embracing digital payments? Now the vendors react. they are going backwards. So as fear grew, traders started taking matters into their own hands. They stopped accepting UPI altogether. Why? Firstly, because cash doesn't leave a trail. Second, no records, no transaction history. Third, no data to be used against them later. So instead of risking a rupees 5 lakh notice from a digital trail, they are choosing cash, no paper, no proof, no panic. But isn't this exactly the opposite of what India wants? Wasn't digital India about transparency, growth, and ease of doing business? If the result of going digital is a government knock at your door, then who will want to scan a QR code ever again? So, as the issue grew, politics wasn't far behind. BJP leaders like S. Shuresh Kumar slammed the Congress government, accusing them of harassing small traders. In response, Karnataka Minister MB Patil defended the state's action while also hitting back at BJP state president by Vijayendra's criticism. Here's what he said. IT department. IT department CBI edit. IT department. Now legal experts, tax professionals and activists are also raising similar concerns. They say UPI should not be treated as a standalone income proof. Income must be determined with supporting documents, sales records, stock customers logs, not just raw bank credits. Small traders don't have chartered accountants or finance terms. How are they supposed to deal with multi-page GST notices with penalties from 2 years ago? This is why critics are calling this enforcement digital bullying, punishing the poor for using technology. And now the traders strike back and protest announced. But the issue isn't cooling off. Angry vendors have now organized themselves under a new forum led by the Karnataka Karmika Parish KKP. They have declared first a two-day strike on July 23 and 24. Second a statewide shop on July 25. Third, and if no action is taken, they have even threatened to stop selling essential goods like milk. The message is very clear. They won't back down unless the government listens. In response, Chief Minister Sida Ramaya, who also handles the finance department, has stepped in. He promised that the issue will be raised at the next GST council meeting, and he has asked tax officials to talk to traders directly to resolve this. That's what led to the no GST campaign. But many says it's too little too late. So lastly, where do we go from here? Let's take a step back. Everyone agrees tax compliance is important. The government needs revenue. Welfare schemes need funding. But there is a difference between widening the tax base and unfairly targeting street vendors. Between using technology to help people and using it to scare them. UPI was supposed to make lives easier, but today it's making small traders vulnerable. So here's the real question. Do we want a digital India that lifts people up or one that pushes them out? Let's hope this panic leads to policy correction, not just PR campaigns. Now, let us know your thoughts in the comments below and do subscribe to the free press journal for all the stories that matters.\n"
          ]
        }
      ],
      "source": [
        "from youtube_transcript_api import YouTubeTranscriptApi\n",
        "\n",
        "\n",
        "video_id = \"4gEhj3CqGSw\" # only the ID, not full URL\n",
        "try:\n",
        "    # If you don’t care which language, this returns the “best” one\n",
        "    ytt_api = YouTubeTranscriptApi()\n",
        "    transcript_list=ytt_api.fetch(video_id)\n",
        "\n",
        "    # Flatten it to plain text\n",
        "    transcript = \" \".join(chunk.text for chunk in transcript_list)\n",
        "    print(transcript)\n",
        "\n",
        "except TranscriptsDisabled:\n",
        "    print(\"No captions available for this video.\")"
      ]
    },
    {
      "cell_type": "markdown",
      "id": "406f8e5f-3ed5-48ae-9728-d53bfe2b5acb",
      "metadata": {
        "id": "406f8e5f-3ed5-48ae-9728-d53bfe2b5acb"
      },
      "source": [
        "# text splitter(split book shelves in books)"
      ]
    },
    {
      "cell_type": "code",
      "execution_count": null,
      "id": "9934892c-c067-489e-8940-90edfeb4eae1",
      "metadata": {
        "id": "9934892c-c067-489e-8940-90edfeb4eae1"
      },
      "outputs": [],
      "source": [
        "from langchain_text_splitters import RecursiveCharacterTextSplitter\n",
        "text_splitter = RecursiveCharacterTextSplitter(chunk_size=150, chunk_overlap=30)\n",
        "#texts = text_splitter.split_text(transcript)\n",
        "chunks = text_splitter.create_documents([transcript])"
      ]
    },
    {
      "cell_type": "code",
      "execution_count": null,
      "id": "ffa2c095-01ce-423e-a2f9-dc043ade1aee",
      "metadata": {
        "id": "ffa2c095-01ce-423e-a2f9-dc043ade1aee",
        "outputId": "d3f6da17-cf5d-4203-b7a5-9f217dc71845"
      },
      "outputs": [
        {
          "data": {
            "text/plain": [
              "[Document(metadata={}, page_content=\"In India's digital capital, UPI was once king. But now, Bangalore vendors are tearing down QR codes and saying cash only. Why are the same street\"),\n",
              " Document(metadata={}, page_content='only. Why are the same street sellers who embrace digital now running from it? Because behind every beep of a UPI payment, there could be a tax'),\n",
              " Document(metadata={}, page_content=\"payment, there could be a tax notice. Hi, this is Katija and you're watching the free press journal. Today we are decoding a crisis that's turning\"),\n",
              " Document(metadata={}, page_content=\"a crisis that's turning India's digital dream upside down. Why are Bangaluru's food stalls, corner shops and small vendors refusing UPI payments? Why\"),\n",
              " Document(metadata={}, page_content=\"refusing UPI payments? Why are posters saying no UPI only cash spreading in the city that once led India's fine tech revolution? In this video, we'll\"),\n",
              " Document(metadata={}, page_content=\"In this video, we'll explain how GST enforcement triggered panic, what UPI has to do with tax notices, how the Karnataka government is trying to calm\"),\n",
              " Document(metadata={}, page_content=\"government is trying to calm things down, and why traders are now planning a strike. Let's get into the full story. Imagine you are at a tea stall in\"),\n",
              " Document(metadata={}, page_content='you are at a tea stall in Kora Mangala. You take out your phone to pay via UPI and the seller says cash only. You look around and you see the same'),\n",
              " Document(metadata={}, page_content='around and you see the same thing everywhere. QR codes missing, vendors refusing online payment. Why? Because it all started earlier this month when'),\n",
              " Document(metadata={}, page_content=\"earlier this month when Karnataka's commercial tax department decided to use UPI transaction data to identify unregistered businesses. They flagged\"),\n",
              " Document(metadata={}, page_content='businesses. They flagged around 14,000 traders who had received digital payments that according to them cross the GST registration limit. These'),\n",
              " Document(metadata={}, page_content='GST registration limit. These vendors were sent notices some demanding taxes going back to 2021 to 22 with dues ranging from thousands to even rupees'),\n",
              " Document(metadata={}, page_content='from thousands to even rupees 40 40 lakh. Just like that, what was once a simple digital payment became a potential tax liability? Now, very'),\n",
              " Document(metadata={}, page_content=\"tax liability? Now, very importantly, why is this happening now? Now, here's the question everyone's asking. Why now? Why are small traders being\"),\n",
              " Document(metadata={}, page_content=\"Why are small traders being scrutinized this way? The answer lies in Karnataka's ambitious revenue target. The state wants to collect rupees 1.2 lakh\"),\n",
              " Document(metadata={}, page_content='to collect rupees 1.2 lakh cr by 2025 to 26. At the same time, rupees 52,000 cr has already been committed to welfare schemes and Congress MLAs are'),\n",
              " Document(metadata={}, page_content='schemes and Congress MLAs are demanding more funds for roads, hospitals, housing and urban projects. To fill the gap, the tax department has been'),\n",
              " Document(metadata={}, page_content='the tax department has been told to widen the tax base. That means bringing in more unregistered businesses, even if they are tiny food stalls or'),\n",
              " Document(metadata={}, page_content=\"they are tiny food stalls or roadside vendors. And the easiest way to find them, UPI data, clean, traceable, and digital. But here's where the real\"),\n",
              " Document(metadata={}, page_content=\"But here's where the real trouble begins. Now let's understand the tax trap. Under GST law, if a trader's annual turnover crosses rupees 4040 lakh\"),\n",
              " Document(metadata={}, page_content='crosses rupees 4040 lakh for goods or 20 lakh for services, they must register and pay tax. But how do you calculate turnover? Well, the department'),\n",
              " Document(metadata={}, page_content='Well, the department used UPI transaction history alone. So if someone received rupees 3 to four lakh via UPI over a few months, the system scaled it'),\n",
              " Document(metadata={}, page_content=\"months, the system scaled it to assume they crossed rupees 20 to 40 lakh annually and send them a notice. But expert says that's a flawed method.\"),\n",
              " Document(metadata={}, page_content=\"says that's a flawed method. Why? Because many vendors use one account for everything like business, personal and even family transfer. For example,\"),\n",
              " Document(metadata={}, page_content='family transfer. For example, a friend returning borrowed cash. All of it shows up in UPI. Can that really be considered as income? Well, under the'),\n",
              " Document(metadata={}, page_content=\"as income? Well, under the GST law, the burden of proof lies with the department, not the trader. They must prove it's business income, not just\"),\n",
              " Document(metadata={}, page_content=\"business income, not just assume. So now traders are asking why are we being penalized just for going digital? Now talking about the panic that's\"),\n",
              " Document(metadata={}, page_content=\"about the panic that's getting viral. This panic didn't stay local on social media. Photos of stalls with signs like no UPI only cash went viral. On\"),\n",
              " Document(metadata={}, page_content='UPI only cash went viral. On X, Instagram and WhatsApp, people shared stories of vendors being harassed, receiving notices or removing QR codes. The'),\n",
              " Document(metadata={}, page_content=\"or removing QR codes. The same Bangalore that once symbolized India's fine tech boom was now seen rejecting it. The public was shocked. Is this how\"),\n",
              " Document(metadata={}, page_content='was shocked. Is this how we reward small vendors for embracing digital payments? Now the vendors react. they are going backwards. So as fear grew,'),\n",
              " Document(metadata={}, page_content='backwards. So as fear grew, traders started taking matters into their own hands. They stopped accepting UPI altogether. Why? Firstly, because cash'),\n",
              " Document(metadata={}, page_content=\"Why? Firstly, because cash doesn't leave a trail. Second, no records, no transaction history. Third, no data to be used against them later. So\"),\n",
              " Document(metadata={}, page_content='used against them later. So instead of risking a rupees 5 lakh notice from a digital trail, they are choosing cash, no paper, no proof, no panic. But'),\n",
              " Document(metadata={}, page_content=\"no proof, no panic. But isn't this exactly the opposite of what India wants? Wasn't digital India about transparency, growth, and ease of doing\"),\n",
              " Document(metadata={}, page_content='growth, and ease of doing business? If the result of going digital is a government knock at your door, then who will want to scan a QR code ever'),\n",
              " Document(metadata={}, page_content=\"want to scan a QR code ever again? So, as the issue grew, politics wasn't far behind. BJP leaders like S. Shuresh Kumar slammed the Congress\"),\n",
              " Document(metadata={}, page_content=\"Kumar slammed the Congress government, accusing them of harassing small traders. In response, Karnataka Minister MB Patil defended the state's action\"),\n",
              " Document(metadata={}, page_content=\"defended the state's action while also hitting back at BJP state president by Vijayendra's criticism. Here's what he said. IT department. IT\"),\n",
              " Document(metadata={}, page_content='he said. IT department. IT department CBI edit. IT department. Now legal experts, tax professionals and activists are also raising similar concerns.'),\n",
              " Document(metadata={}, page_content='raising similar concerns. They say UPI should not be treated as a standalone income proof. Income must be determined with supporting documents, sales'),\n",
              " Document(metadata={}, page_content=\"supporting documents, sales records, stock customers logs, not just raw bank credits. Small traders don't have chartered accountants or finance\"),\n",
              " Document(metadata={}, page_content='accountants or finance terms. How are they supposed to deal with multi-page GST notices with penalties from 2 years ago? This is why critics are'),\n",
              " Document(metadata={}, page_content='ago? This is why critics are calling this enforcement digital bullying, punishing the poor for using technology. And now the traders strike back and'),\n",
              " Document(metadata={}, page_content=\"the traders strike back and protest announced. But the issue isn't cooling off. Angry vendors have now organized themselves under a new forum led by\"),\n",
              " Document(metadata={}, page_content='under a new forum led by the Karnataka Karmika Parish KKP. They have declared first a two-day strike on July 23 and 24. Second a statewide shop on'),\n",
              " Document(metadata={}, page_content='Second a statewide shop on July 25. Third, and if no action is taken, they have even threatened to stop selling essential goods like milk. The'),\n",
              " Document(metadata={}, page_content=\"goods like milk. The message is very clear. They won't back down unless the government listens. In response, Chief Minister Sida Ramaya, who also\"),\n",
              " Document(metadata={}, page_content='Sida Ramaya, who also handles the finance department, has stepped in. He promised that the issue will be raised at the next GST council meeting, and'),\n",
              " Document(metadata={}, page_content=\"next GST council meeting, and he has asked tax officials to talk to traders directly to resolve this. That's what led to the no GST campaign. But\"),\n",
              " Document(metadata={}, page_content=\"to the no GST campaign. But many says it's too little too late. So lastly, where do we go from here? Let's take a step back. Everyone agrees tax\"),\n",
              " Document(metadata={}, page_content='back. Everyone agrees tax compliance is important. The government needs revenue. Welfare schemes need funding. But there is a difference between'),\n",
              " Document(metadata={}, page_content='there is a difference between widening the tax base and unfairly targeting street vendors. Between using technology to help people and using it to'),\n",
              " Document(metadata={}, page_content=\"help people and using it to scare them. UPI was supposed to make lives easier, but today it's making small traders vulnerable. So here's the real\"),\n",
              " Document(metadata={}, page_content=\"So here's the real question. Do we want a digital India that lifts people up or one that pushes them out? Let's hope this panic leads to policy\"),\n",
              " Document(metadata={}, page_content='this panic leads to policy correction, not just PR campaigns. Now, let us know your thoughts in the comments below and do subscribe to the free press'),\n",
              " Document(metadata={}, page_content='subscribe to the free press journal for all the stories that matters.')]"
            ]
          },
          "execution_count": 37,
          "metadata": {},
          "output_type": "execute_result"
        }
      ],
      "source": [
        "chunks"
      ]
    },
    {
      "cell_type": "markdown",
      "id": "75786a7c-7706-4830-b88e-43cfedf155eb",
      "metadata": {
        "id": "75786a7c-7706-4830-b88e-43cfedf155eb"
      },
      "source": [
        "# embedding(convert every book into embedding to get sematic idea)"
      ]
    },
    {
      "cell_type": "code",
      "execution_count": null,
      "id": "ec075a7e-f8cf-445c-b2de-584f75e41071",
      "metadata": {
        "id": "ec075a7e-f8cf-445c-b2de-584f75e41071"
      },
      "outputs": [],
      "source": [
        "from langchain_openai import OpenAIEmbeddings\n",
        "\n",
        "embeddings_model = OpenAIEmbeddings(model=\"text-embedding-3-large\")"
      ]
    },
    {
      "cell_type": "markdown",
      "id": "25aeabcf-bbb8-40ba-bee7-548508fd5be6",
      "metadata": {
        "id": "25aeabcf-bbb8-40ba-bee7-548508fd5be6"
      },
      "source": [
        "# hard way(look for every book in library)"
      ]
    },
    {
      "cell_type": "code",
      "execution_count": null,
      "id": "e67057de-01c7-4073-aa3f-6430437004bf",
      "metadata": {
        "id": "e67057de-01c7-4073-aa3f-6430437004bf",
        "outputId": "ec4ffbda-de01-452b-b17a-6b1d265fd780"
      },
      "outputs": [
        {
          "name": "stdout",
          "output_type": "stream",
          "text": [
            "3072\n",
            "[[0.37075167]]\n"
          ]
        }
      ],
      "source": [
        "from sklearn.metrics.pairwise import cosine_similarity\n",
        "\n",
        "v1 = embeddings_model.embed_query(\"What is UPI?\")\n",
        "v2 = embeddings_model.embed_query(\"Tell me about digital payments.\")\n",
        "\n",
        "similarity = cosine_similarity([v1], [v2])\n",
        "print(len(v1))\n",
        "print(similarity)"
      ]
    },
    {
      "cell_type": "markdown",
      "id": "3fbc07ad-1c0d-450b-a508-f6eeceb38c00",
      "metadata": {
        "id": "3fbc07ad-1c0d-450b-a508-f6eeceb38c00"
      },
      "source": [
        "# create smart library"
      ]
    },
    {
      "cell_type": "code",
      "execution_count": null,
      "id": "1a340fd2-df7e-401b-948e-96da8ec6b48c",
      "metadata": {
        "id": "1a340fd2-df7e-401b-948e-96da8ec6b48c"
      },
      "outputs": [],
      "source": [
        "from langchain.vectorstores import FAISS\n",
        "\n",
        "# chunks should be a list of langchain Documents\n",
        "vector_store = FAISS.from_documents(chunks, embeddings_model)"
      ]
    },
    {
      "cell_type": "markdown",
      "id": "ce225a67-4767-4ad0-b131-23a2b2912ad2",
      "metadata": {
        "id": "ce225a67-4767-4ad0-b131-23a2b2912ad2"
      },
      "source": [
        "# find most similar books with scores(semantically similar)(low score = more similar)"
      ]
    },
    {
      "cell_type": "code",
      "execution_count": null,
      "id": "9ee049e3-cd8d-4009-81e6-03b4993a7ede",
      "metadata": {
        "id": "9ee049e3-cd8d-4009-81e6-03b4993a7ede",
        "outputId": "9b2e476b-3189-41fe-b379-bd053fbaafc7"
      },
      "outputs": [
        {
          "name": "stdout",
          "output_type": "stream",
          "text": [
            "Match 1 (Score: 1.5085): you are at a tea stall in Kora Mangala. You take out your phone to pay via UPI and the seller says cash only. You look around and you see the same\n",
            "Match 2 (Score: 1.5595): schemes and Congress MLAs are demanding more funds for roads, hospitals, housing and urban projects. To fill the gap, the tax department has been\n",
            "Match 3 (Score: 1.5644): In India's digital capital, UPI was once king. But now, Bangalore vendors are tearing down QR codes and saying cash only. Why are the same street\n",
            "Match 4 (Score: 1.5843): they are tiny food stalls or roadside vendors. And the easiest way to find them, UPI data, clean, traceable, and digital. But here's where the real\n",
            "Match 5 (Score: 1.5867): refusing UPI payments? Why are posters saying no UPI only cash spreading in the city that once led India's fine tech revolution? In this video, we'll\n"
          ]
        }
      ],
      "source": [
        "query = \"areas in city\"\n",
        "similar_chunks = vector_store.similarity_search_with_score(query, k=5)\n",
        "\n",
        "for i, (doc, score) in enumerate(similar_chunks, 1):\n",
        "    print(f\"Match {i} (Score: {score:.4f}): {doc.page_content}\")"
      ]
    },
    {
      "cell_type": "code",
      "execution_count": null,
      "id": "cedbee05-40c5-47e6-97ee-4c18a8613c26",
      "metadata": {
        "id": "cedbee05-40c5-47e6-97ee-4c18a8613c26"
      },
      "outputs": [],
      "source": [
        "vector_store.save_local(\"my_faiss_index\")"
      ]
    },
    {
      "cell_type": "code",
      "execution_count": null,
      "id": "db3f8ff2-c7cb-40e1-a153-d2d662d64df6",
      "metadata": {
        "id": "db3f8ff2-c7cb-40e1-a153-d2d662d64df6"
      },
      "outputs": [],
      "source": [
        "vector_store = FAISS.load_local(\n",
        "    \"my_faiss_index\",\n",
        "    embeddings_model,\n",
        "    allow_dangerous_deserialization=True\n",
        ")"
      ]
    },
    {
      "cell_type": "markdown",
      "id": "2bb77270-2682-4c9f-8062-051dad91cf74",
      "metadata": {
        "id": "2bb77270-2682-4c9f-8062-051dad91cf74"
      },
      "source": [
        "# Smart librarian(Takes your query searches through the library and brings you most similar books)"
      ]
    },
    {
      "cell_type": "code",
      "execution_count": null,
      "id": "acb9eaa7-86e9-452d-81ee-248eba1c1607",
      "metadata": {
        "id": "acb9eaa7-86e9-452d-81ee-248eba1c1607",
        "outputId": "9c2cd9db-f713-4689-e7e7-af24af8cb041"
      },
      "outputs": [
        {
          "name": "stdout",
          "output_type": "stream",
          "text": [
            "[Document(id='378eb08c-5c90-44f3-ac7b-882bf3156faa', metadata={}, page_content=\"they are tiny food stalls or roadside vendors. And the easiest way to find them, UPI data, clean, traceable, and digital. But here's where the real\"), Document(id='11a3de83-1c5c-48bd-a29d-04ab67a7db61', metadata={}, page_content=\"tax liability? Now, very importantly, why is this happening now? Now, here's the question everyone's asking. Why now? Why are small traders being\"), Document(id='07384074-9832-4a50-b006-fdc11c57840c', metadata={}, page_content=\"Why? Firstly, because cash doesn't leave a trail. Second, no records, no transaction history. Third, no data to be used against them later. So\"), Document(id='bbffff2a-3302-4106-b3d6-393f85f3bf74', metadata={}, page_content=\"goods like milk. The message is very clear. They won't back down unless the government listens. In response, Chief Minister Sida Ramaya, who also\")]\n"
          ]
        }
      ],
      "source": [
        "retriever = vector_store.as_retriever()\n",
        "results = retriever.invoke(\"What is water?\")\n",
        "print(results)"
      ]
    },
    {
      "cell_type": "markdown",
      "id": "c193dc49-adf9-4040-a152-d54eaefb52b8",
      "metadata": {
        "id": "c193dc49-adf9-4040-a152-d54eaefb52b8"
      },
      "source": [
        "#we can tell librarian, use mmr or similarity or similarity_score_threshold thats why we need librarian"
      ]
    },
    {
      "cell_type": "code",
      "execution_count": null,
      "id": "552f06ea-2141-48c2-ae4d-ba2cf7f96dd4",
      "metadata": {
        "id": "552f06ea-2141-48c2-ae4d-ba2cf7f96dd4",
        "outputId": "abb12db5-d013-42bf-dc5a-7b7da3821c9b"
      },
      "outputs": [
        {
          "name": "stdout",
          "output_type": "stream",
          "text": [
            "[Document(id='ee3d429f-574d-46ec-a531-c4a1a838b253', metadata={}, page_content=\"they are tiny food stalls or roadside vendors. And the easiest way to find them, UPI data, clean, traceable, and digital. But here's where the real\"), Document(id='938e4a78-f9d2-40b1-9500-6652dfdb5d3f', metadata={}, page_content=\"to the no GST campaign. But many says it's too little too late. So lastly, where do we go from here? Let's take a step back. Everyone agrees tax\"), Document(id='ffb529da-98df-4bd3-8439-00fb696ccd4c', metadata={}, page_content=\"Why? Firstly, because cash doesn't leave a trail. Second, no records, no transaction history. Third, no data to be used against them later. So\"), Document(id='0f5cf308-a4df-40f8-99ce-73325d3ed962', metadata={}, page_content='Second a statewide shop on July 25. Third, and if no action is taken, they have even threatened to stop selling essential goods like milk. The'), Document(id='fc995bcf-85e0-4b46-b39f-954c2cd76a8c', metadata={}, page_content=\"no proof, no panic. But isn't this exactly the opposite of what India wants? Wasn't digital India about transparency, growth, and ease of doing\")]\n"
          ]
        }
      ],
      "source": [
        "retriever = vector_store.as_retriever(\n",
        "    search_type=\"mmr\",     # or \"similarity\"\n",
        "    search_kwargs={\"k\": 5}\n",
        ")\n",
        "\n",
        "docs = retriever.invoke(\"What is water?\")\n",
        "print(docs)"
      ]
    },
    {
      "cell_type": "markdown",
      "id": "66bdbf06-f8e1-4d20-aac3-5d14a0322ccc",
      "metadata": {
        "id": "66bdbf06-f8e1-4d20-aac3-5d14a0322ccc"
      },
      "source": [
        "# Augmentation\n",
        "##(You feed books librarian bought to chatgpt and query it, chatgpt understands the books, and query and gives better answer based on its knowledge)\n",
        "##“Hey ChatGPT, here's what I found in my books 📚 — now please help me answer the question.”"
      ]
    },
    {
      "cell_type": "code",
      "execution_count": null,
      "id": "c7d74c27-20d8-4377-9138-381af249dc48",
      "metadata": {
        "id": "c7d74c27-20d8-4377-9138-381af249dc48"
      },
      "outputs": [],
      "source": [
        "llm = ChatOpenAI(model=\"gpt-4o-mini\", temperature=0.2)"
      ]
    },
    {
      "cell_type": "code",
      "execution_count": null,
      "id": "0529e3bd-2a00-470e-b011-84117bae6898",
      "metadata": {
        "id": "0529e3bd-2a00-470e-b011-84117bae6898"
      },
      "outputs": [],
      "source": [
        "prompt = PromptTemplate(\n",
        "    template=\"\"\"\n",
        "      You are a helpful assistant.\n",
        "      Answer ONLY from the provided transcript context.\n",
        "      If the context is insufficient, just say you don't know.\n",
        "\n",
        "      {context}\n",
        "      Question: {question}\n",
        "    \"\"\",\n",
        "    input_variables = ['context', 'question']\n",
        ")"
      ]
    },
    {
      "cell_type": "code",
      "execution_count": null,
      "id": "0db87955-17a8-4dab-b104-d00cdafd32b7",
      "metadata": {
        "id": "0db87955-17a8-4dab-b104-d00cdafd32b7",
        "outputId": "5afbb455-6dbf-4c70-dcce-d46c9c53fc5e"
      },
      "outputs": [
        {
          "name": "stdout",
          "output_type": "stream",
          "text": [
            "[Document(id='8fcb0b18-6540-478f-8591-6ede7bac4095', metadata={}, page_content=\"In this video, we'll explain how GST enforcement triggered panic, what UPI has to do with tax notices, how the Karnataka government is trying to calm\"), Document(id='1398413d-60d1-4734-b612-72c11b0025f3', metadata={}, page_content=\"next GST council meeting, and he has asked tax officials to talk to traders directly to resolve this. That's what led to the no GST campaign. But\"), Document(id='bb19ca8f-105b-4824-83d3-94f0d73af7cf', metadata={}, page_content=\"to the no GST campaign. But many says it's too little too late. So lastly, where do we go from here? Let's take a step back. Everyone agrees tax\"), Document(id='80e9a81a-85f0-4d9d-8939-8dbd1368889d', metadata={}, page_content='Sida Ramaya, who also handles the finance department, has stepped in. He promised that the issue will be raised at the next GST council meeting, and')]\n"
          ]
        }
      ],
      "source": [
        "question          = \"is the topic of gst discussed in this video? if yes then what was discussed\"\n",
        "retrieved_docs    = retriever.invoke(question)\n",
        "print(retrieved_docs)"
      ]
    },
    {
      "cell_type": "code",
      "execution_count": null,
      "id": "5ece3d51-9093-4228-aec3-0c930837efab",
      "metadata": {
        "id": "5ece3d51-9093-4228-aec3-0c930837efab",
        "outputId": "7b5d3d5e-37b5-4d4c-955e-c8a13750da5e"
      },
      "outputs": [
        {
          "data": {
            "text/plain": [
              "\"In this video, we'll explain how GST enforcement triggered panic, what UPI has to do with tax notices, how the Karnataka government is trying to calm\\n\\nnext GST council meeting, and he has asked tax officials to talk to traders directly to resolve this. That's what led to the no GST campaign. But\\n\\nto the no GST campaign. But many says it's too little too late. So lastly, where do we go from here? Let's take a step back. Everyone agrees tax\\n\\nSida Ramaya, who also handles the finance department, has stepped in. He promised that the issue will be raised at the next GST council meeting, and\""
            ]
          },
          "execution_count": 11,
          "metadata": {},
          "output_type": "execute_result"
        }
      ],
      "source": [
        "context_text = \"\\n\\n\".join(doc.page_content for doc in retrieved_docs)\n",
        "context_text"
      ]
    },
    {
      "cell_type": "code",
      "execution_count": null,
      "id": "64404564-b815-45c8-9361-f5c0cc7347c2",
      "metadata": {
        "id": "64404564-b815-45c8-9361-f5c0cc7347c2"
      },
      "outputs": [],
      "source": [
        "final_prompt = prompt.invoke({\"context\": context_text, \"question\": question})"
      ]
    },
    {
      "cell_type": "code",
      "execution_count": null,
      "id": "22f672d1-7123-4525-8042-7edcdb10f139",
      "metadata": {
        "id": "22f672d1-7123-4525-8042-7edcdb10f139",
        "outputId": "c1342f8a-d195-4059-e10b-1b7431bc33aa"
      },
      "outputs": [
        {
          "name": "stdout",
          "output_type": "stream",
          "text": [
            "Yes, the topic of GST is discussed in this video. It explains how GST enforcement triggered panic among traders, the burden of proof under GST law, and the concerns regarding tax notices related to digital payments. It also mentions the Karnataka government's efforts to address these issues and the promise to raise the matter at the next GST council meeting.\n"
          ]
        }
      ],
      "source": [
        "answer = llm.invoke(final_prompt)\n",
        "print(answer.content)"
      ]
    },
    {
      "cell_type": "markdown",
      "id": "bf17d354-fa09-40da-84c7-87ae71750045",
      "metadata": {
        "id": "bf17d354-fa09-40da-84c7-87ae71750045"
      },
      "source": [
        "# Runnable"
      ]
    },
    {
      "cell_type": "code",
      "execution_count": null,
      "id": "ab16ad69-3530-47d3-8237-2897356cf0ee",
      "metadata": {
        "id": "ab16ad69-3530-47d3-8237-2897356cf0ee"
      },
      "outputs": [],
      "source": [
        "from langchain_core.runnables import RunnableParallel, RunnablePassthrough, RunnableLambda\n",
        "from langchain_core.output_parsers import StrOutputParser"
      ]
    },
    {
      "cell_type": "code",
      "execution_count": null,
      "id": "77164c20-7f44-4252-add6-87c113127a7c",
      "metadata": {
        "id": "77164c20-7f44-4252-add6-87c113127a7c"
      },
      "outputs": [],
      "source": [
        "from langchain.vectorstores import FAISS\n",
        "\n",
        "# chunks should be a list of langchain Documents\n",
        "vector_store = FAISS.from_documents(chunks, embeddings_model)"
      ]
    },
    {
      "cell_type": "code",
      "execution_count": null,
      "id": "344f9184-9784-4247-acd7-b1dbec96d407",
      "metadata": {
        "id": "344f9184-9784-4247-acd7-b1dbec96d407"
      },
      "outputs": [],
      "source": [
        "retriever = vector_store.as_retriever()"
      ]
    },
    {
      "cell_type": "code",
      "execution_count": null,
      "id": "c39b4afe-43d7-4419-9adc-8fd65fd758b5",
      "metadata": {
        "id": "c39b4afe-43d7-4419-9adc-8fd65fd758b5"
      },
      "outputs": [],
      "source": [
        "from langchain_core.runnables import RunnableMap\n",
        "from langchain_core.documents import Document\n",
        "\n",
        "# Step to get docs from retriever and join as a string\n",
        "def get_context(question: str):\n",
        "    docs = retriever.invoke(question)\n",
        "    return \"\\n\\n\".join(doc.page_content for doc in docs)\n",
        "\n",
        "parallel_chain = RunnableMap({\n",
        "    \"question\": RunnablePassthrough(),       # keep original question\n",
        "    \"context\": get_context         # fetch & format docs\n",
        "})"
      ]
    },
    {
      "cell_type": "code",
      "execution_count": null,
      "id": "36934d88-9299-4a00-84e7-839787b14930",
      "metadata": {
        "id": "36934d88-9299-4a00-84e7-839787b14930"
      },
      "outputs": [],
      "source": [
        "from langchain.prompts import PromptTemplate\n",
        "\n",
        "prompt = PromptTemplate(\n",
        "    input_variables=[\"context\", \"question\"],\n",
        "    template=\"\"\"\n",
        "You are a helpful assistant.\n",
        "Answer ONLY from the provided transcript context.\n",
        "If the context is insufficient, just say you don't know.\n",
        "\n",
        "{context}\n",
        "Question: {question}\n",
        "\"\"\"\n",
        ")"
      ]
    },
    {
      "cell_type": "code",
      "execution_count": null,
      "id": "c1104964-c3d2-4469-98a6-40d69f9c8bda",
      "metadata": {
        "id": "c1104964-c3d2-4469-98a6-40d69f9c8bda"
      },
      "outputs": [],
      "source": [
        "from langchain_openai import ChatOpenAI\n",
        "\n",
        "llm = ChatOpenAI(model=\"gpt-4o-mini\", temperature=0.2)"
      ]
    },
    {
      "cell_type": "code",
      "execution_count": null,
      "id": "be5dd5a4-df7b-420c-a186-943c679fba28",
      "metadata": {
        "id": "be5dd5a4-df7b-420c-a186-943c679fba28"
      },
      "outputs": [],
      "source": [
        "from langchain_core.output_parsers import StrOutputParser\n",
        "\n",
        "parser = StrOutputParser()"
      ]
    },
    {
      "cell_type": "code",
      "execution_count": null,
      "id": "9ea6944b-6b21-4724-acd5-20b15950a27d",
      "metadata": {
        "id": "9ea6944b-6b21-4724-acd5-20b15950a27d"
      },
      "outputs": [],
      "source": [
        "main_chain = parallel_chain | prompt | llm | parser"
      ]
    },
    {
      "cell_type": "code",
      "execution_count": null,
      "id": "45b25645-6338-4e5e-9738-de58707a564b",
      "metadata": {
        "id": "45b25645-6338-4e5e-9738-de58707a564b",
        "outputId": "a944f68a-f368-4042-8504-9d3be11e89c4"
      },
      "outputs": [
        {
          "data": {
            "text/plain": [
              "'Yes, the topic related to GST is discussed. Here is a summary in 5 points:\\n\\n1. The video explains how GST enforcement has caused panic among traders, leading to a campaign against GST.\\n2. There is a connection between UPI (Unified Payments Interface) and tax notices, which is affecting traders.\\n3. The Karnataka government is attempting to address the concerns raised by the no GST campaign, but many believe their efforts are insufficient.\\n4. The discussion highlights the implications of GST law, particularly regarding the tax trap for traders with an annual turnover exceeding 40 lakh rupees.\\n5. The next GST council meeting is anticipated, with a focus on direct communication between tax officials and traders to resolve ongoing issues.'"
            ]
          },
          "execution_count": 49,
          "metadata": {},
          "output_type": "execute_result"
        }
      ],
      "source": [
        "main_chain.invoke('is the topic related to gst discussed? give me summary in 5 points')"
      ]
    },
    {
      "cell_type": "code",
      "execution_count": null,
      "id": "d85659f6-9d6d-4dd5-b0f5-b720ace2b99e",
      "metadata": {
        "id": "d85659f6-9d6d-4dd5-b0f5-b720ace2b99e"
      },
      "outputs": [],
      "source": []
    }
  ],
  "metadata": {
    "kernelspec": {
      "display_name": "Python 3 (ipykernel)",
      "language": "python",
      "name": "python3"
    },
    "language_info": {
      "codemirror_mode": {
        "name": "ipython",
        "version": 3
      },
      "file_extension": ".py",
      "mimetype": "text/x-python",
      "name": "python",
      "nbconvert_exporter": "python",
      "pygments_lexer": "ipython3",
      "version": "3.10.13"
    },
    "colab": {
      "provenance": []
    }
  },
  "nbformat": 4,
  "nbformat_minor": 5
}